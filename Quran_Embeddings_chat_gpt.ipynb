{
  "cells": [
    {
      "cell_type": "code",
      "execution_count": 39,
      "metadata": {
        "id": "kH3RDKmeEdxc",
        "colab": {
          "base_uri": "https://localhost:8080/"
        },
        "outputId": "ef9f5270-79cc-459b-c48f-7e840c93c6d6"
      },
      "outputs": [
        {
          "output_type": "stream",
          "name": "stdout",
          "text": [
            "Looking in indexes: https://pypi.org/simple, https://us-python.pkg.dev/colab-wheels/public/simple/\n",
            "Requirement already satisfied: openai in /usr/local/lib/python3.9/dist-packages (0.27.2)\n",
            "Requirement already satisfied: tqdm in /usr/local/lib/python3.9/dist-packages (from openai) (4.65.0)\n",
            "Requirement already satisfied: aiohttp in /usr/local/lib/python3.9/dist-packages (from openai) (3.8.4)\n",
            "Requirement already satisfied: requests>=2.20 in /usr/local/lib/python3.9/dist-packages (from openai) (2.27.1)\n",
            "Requirement already satisfied: charset-normalizer~=2.0.0 in /usr/local/lib/python3.9/dist-packages (from requests>=2.20->openai) (2.0.12)\n",
            "Requirement already satisfied: certifi>=2017.4.17 in /usr/local/lib/python3.9/dist-packages (from requests>=2.20->openai) (2022.12.7)\n",
            "Requirement already satisfied: idna<4,>=2.5 in /usr/local/lib/python3.9/dist-packages (from requests>=2.20->openai) (3.4)\n",
            "Requirement already satisfied: urllib3<1.27,>=1.21.1 in /usr/local/lib/python3.9/dist-packages (from requests>=2.20->openai) (1.26.15)\n",
            "Requirement already satisfied: multidict<7.0,>=4.5 in /usr/local/lib/python3.9/dist-packages (from aiohttp->openai) (6.0.4)\n",
            "Requirement already satisfied: aiosignal>=1.1.2 in /usr/local/lib/python3.9/dist-packages (from aiohttp->openai) (1.3.1)\n",
            "Requirement already satisfied: frozenlist>=1.1.1 in /usr/local/lib/python3.9/dist-packages (from aiohttp->openai) (1.3.3)\n",
            "Requirement already satisfied: async-timeout<5.0,>=4.0.0a3 in /usr/local/lib/python3.9/dist-packages (from aiohttp->openai) (4.0.2)\n",
            "Requirement already satisfied: attrs>=17.3.0 in /usr/local/lib/python3.9/dist-packages (from aiohttp->openai) (22.2.0)\n",
            "Requirement already satisfied: yarl<2.0,>=1.0 in /usr/local/lib/python3.9/dist-packages (from aiohttp->openai) (1.8.2)\n"
          ]
        }
      ],
      "source": [
        "!pip install openai\n",
        "import openai\n",
        "from sklearn.metrics.pairwise import cosine_similarity\n",
        "import pandas as pd\n",
        "import time\n",
        "from tqdm import tqdm\n",
        "import numpy as np\n",
        "\n",
        "openai.api_key = \"_\""
      ]
    },
    {
      "cell_type": "code",
      "source": [
        "def get_embedding(text , model = \"text-embedding-ada-002\"):\n",
        "   # get the embedding of a sentence from ada\n",
        "   text = text.replace(\"\\n\", \" \")\n",
        "   return openai.Embedding.create(input = [text], model=model  )['data'][0]['embedding']"
      ],
      "metadata": {
        "id": "QoITMBgO-sgP"
      },
      "execution_count": null,
      "outputs": []
    },
    {
      "cell_type": "code",
      "execution_count": 42,
      "metadata": {
        "colab": {
          "base_uri": "https://localhost:8080/"
        },
        "id": "Qh1KHnEqG0ZJ",
        "outputId": "e54404e7-f8e1-4413-e32d-885072c04019"
      },
      "outputs": [
        {
          "output_type": "stream",
          "name": "stderr",
          "text": [
            "6236it [1:44:02,  1.00s/it]\n"
          ]
        }
      ],
      "source": [
        "embs = []\n",
        "quran = pd.read_excel(\"/content/Dataset-Verse-by-Verse.xlsx\")\n",
        "for i, verse in tqdm(enumerate(quran['ArabicText'])):\n",
        "  try :\n",
        "    embs.append((verse , get_embedding(verse)))\n",
        "  except :\n",
        "    # limit reached , so wait a minute then try again\n",
        "    time.sleep(60)\n",
        "    embs.append((verse , get_embedding(verse)))"
      ]
    },
    {
      "cell_type": "code",
      "source": [
        "chat_gpt_embs = pd.DataFrame(data = list(zip([e[0] for e in embs] , [e[1] for e in embs])))\n",
        "chat_gpt_embs = chat_gpt_embs.drop_duplicates(subset=0)"
      ],
      "metadata": {
        "id": "STN7L9EWt_b5"
      },
      "execution_count": 63,
      "outputs": []
    },
    {
      "cell_type": "code",
      "source": [
        "def get_emb_for_str(text):\n",
        "    return np.array(chat_gpt_embs[chat_gpt_embs[0]==text][1].item()).reshape((1,-1))\n",
        "\n",
        "def pair_wise_similarity(text1,text2):\n",
        "  emb1= get_emb_for_str(text1)\n",
        "  emb2=get_emb_for_str(text2)\n",
        "  return cosine_similarity(emb1 ,emb2).item()"
      ],
      "metadata": {
        "id": "4CaYWWlIxUY_"
      },
      "execution_count": 198,
      "outputs": []
    },
    {
      "cell_type": "code",
      "source": [
        "pairs_dataset =pd.read_csv(\"pairs_quran_dataset.csv\")"
      ],
      "metadata": {
        "id": "brEn6ud21A7Q"
      },
      "execution_count": 118,
      "outputs": []
    },
    {
      "cell_type": "code",
      "source": [
        "L=[]\n",
        "for i in range(7679):\n",
        "    L.append(pair_wise_similarity(pairs_dataset.iloc[i]['premise'], pairs_dataset.iloc[i]['hypothesis']))"
      ],
      "metadata": {
        "id": "2DQ4wSJA1ouf"
      },
      "execution_count": 146,
      "outputs": []
    },
    {
      "cell_type": "code",
      "source": [
        "similarity_dataset = pairs_dataset"
      ],
      "metadata": {
        "id": "GX5keRgC3xon"
      },
      "execution_count": 147,
      "outputs": []
    },
    {
      "cell_type": "code",
      "source": [
        "similarity_dataset['sim_scores'] = pd.Series(L)"
      ],
      "metadata": {
        "id": "n5FOi5Zr3weD"
      },
      "execution_count": 148,
      "outputs": []
    },
    {
      "cell_type": "code",
      "source": [
        "similarity_dataset[ 'sim_scores' ] = similarity_dataset['sim_scores'].fillna(int(0))"
      ],
      "metadata": {
        "id": "crR81_on2AeI"
      },
      "execution_count": 150,
      "outputs": []
    },
    {
      "cell_type": "code",
      "source": [
        "TN = (similarity_dataset[similarity_dataset['label'] == 0]['sim_scores'] < 0.6).sum()"
      ],
      "metadata": {
        "id": "DAIJJUs8320v"
      },
      "execution_count": 151,
      "outputs": []
    },
    {
      "cell_type": "code",
      "source": [
        "TP = (similarity_dataset[similarity_dataset['label'] == 2]['sim_scores'] > 0.6).sum() + (similarity_dataset[similarity_dataset['label'] == 1]['sim_scores'] > 0.6).sum()\n",
        "FN = (similarity_dataset[similarity_dataset['label'] == 2]['sim_scores'] < 0.6).sum() + (similarity_dataset[similarity_dataset['label'] == 1]['sim_scores'] < 0.6).sum()\n",
        "FP = (similarity_dataset[similarity_dataset['label'] == 0]['sim_scores'] > 0.6).sum()"
      ],
      "metadata": {
        "id": "BfEWwsbr39Af"
      },
      "execution_count": 152,
      "outputs": []
    },
    {
      "cell_type": "code",
      "source": [
        "# accuracy\n",
        "print('Accuracy : ' , (TP + TN) / (TP + TN + FP + FN))\n",
        "# precision\n",
        "print('Precision : ' , TP / (TP + FP))\n",
        "# recall\n",
        "print('Recall : ', TP / (TP + FN))\n",
        "# F1 score\n",
        "\n",
        "print('F1 score : ' , (2 * TP) / (2 * TP + FP + FN))"
      ],
      "metadata": {
        "colab": {
          "base_uri": "https://localhost:8080/"
        },
        "id": "b6zJK91J4Aef",
        "outputId": "e414f490-1baa-4f29-d087-9728bdb45740"
      },
      "execution_count": 153,
      "outputs": [
        {
          "output_type": "stream",
          "name": "stdout",
          "text": [
            "Accuracy :  0.8851412944393802\n",
            "Precision :  0.8851412944393802\n",
            "Recall :  1.0\n",
            "F1 score :  0.9390715667311412\n"
          ]
        }
      ]
    },
    {
      "cell_type": "code",
      "source": [
        "!pip install sentence-transformers\n",
        "from sentence_transformers.util import cos_sim"
      ],
      "metadata": {
        "id": "N90aLjaX6L15"
      },
      "execution_count": null,
      "outputs": []
    },
    {
      "cell_type": "code",
      "source": [
        "all_embs = np.array([np.array(x) for x in chat_gpt_embs[1].tolist()])"
      ],
      "metadata": {
        "id": "4YLeru8O6Pp7"
      },
      "execution_count": 173,
      "outputs": []
    },
    {
      "cell_type": "code",
      "source": [
        "chat_gpt_embs = chat_gpt_embs.reset_index(drop=True)"
      ],
      "metadata": {
        "id": "9cFCEqbc7Y3X"
      },
      "execution_count": 183,
      "outputs": []
    },
    {
      "cell_type": "code",
      "source": [
        "sentence1 = \"الحمد لله رب العالمين\"\n",
        "emb1 = get_emb_for_str(sentence1)\n",
        "similarity_scores = cos_sim(emb1 , all_embs)[0].numpy().tolist()\n",
        "top_10_indecies = np.argsort(similarity_scores)[::-1][:11]\n",
        "results = list(zip(chat_gpt_embs[0][top_10_indecies].tolist() , sorted(similarity_scores)[::-1][:11]))\n",
        "results"
      ],
      "metadata": {
        "colab": {
          "base_uri": "https://localhost:8080/"
        },
        "id": "-fsN668B4CQ_",
        "outputId": "daaae98a-f516-4931-d0e8-62cb9d556161"
      },
      "execution_count": 199,
      "outputs": [
        {
          "output_type": "execute_result",
          "data": {
            "text/plain": [
              "[('الحمد لله رب العالمين', 1.0000000000000002),\n",
              " ('والحمد لله رب العالمين', 0.9883528744137107),\n",
              " ('فلله الحمد رب السماوات ورب الأرض رب العالمين', 0.9413920880329145),\n",
              " ('هو الحي لا إله إلا هو فادعوه مخلصين له الدين ۗ الحمد لله رب العالمين',\n",
              "  0.9016505910838588),\n",
              " ('قال فرعون وما رب العالمين', 0.896234765849896),\n",
              " ('بسم الله الرحمن الرحيم', 0.8909709285314888),\n",
              " ('الله ربكم ورب آبائكم الأولين', 0.8896969913893943),\n",
              " ('تنزيل من رب العالمين', 0.8864674340990158),\n",
              " ('هدًى ورحمةً للمحسنين', 0.886195638479871),\n",
              " ('ولولا فضل الله عليكم ورحمته وأن الله رءوف رحيم', 0.8848699403107538),\n",
              " ('فقطع دابر القوم الذين ظلموا ۚ والحمد لله رب العالمين', 0.8841729886166388)]"
            ]
          },
          "metadata": {},
          "execution_count": 199
        }
      ]
    },
    {
      "cell_type": "code",
      "source": [
        "chat_gpt_embs.to_csv(\"gpt_embeddings.csv\" , index=False)"
      ],
      "metadata": {
        "id": "8cBhnJzD7Sso"
      },
      "execution_count": 200,
      "outputs": []
    },
    {
      "cell_type": "code",
      "source": [
        "def get_embedding(text , model = \"text-embedding-ada-002\"):\n",
        "   # get the embedding of a sentence from ada\n",
        "   text = text.replace(\"\\n\", \" \")\n",
        "   return openai.Embedding.create(input = [text], model=model  )['data'][0]['embedding']\n",
        "x = get_embedding(\"الصبر\")"
      ],
      "metadata": {
        "id": "AoR2T2Mz_E-a"
      },
      "execution_count": 201,
      "outputs": []
    },
    {
      "cell_type": "code",
      "source": [
        "similarity_scores = cos_sim(np.array(x).reshape((1,-1)) , all_embs)[0].numpy().tolist()\n",
        "top_10_indecies = np.argsort(similarity_scores)[::-1][:11]\n",
        "results = list(zip(chat_gpt_embs[0][top_10_indecies].tolist() , sorted(similarity_scores)[::-1][:11]))\n",
        "results"
      ],
      "metadata": {
        "colab": {
          "base_uri": "https://localhost:8080/"
        },
        "id": "cvbK5HOP_J_H",
        "outputId": "73b845bd-fd85-41db-c21f-8f6b5221ed6b"
      },
      "execution_count": 204,
      "outputs": [
        {
          "output_type": "execute_result",
          "data": {
            "text/plain": [
              "[('فاصبر صبرًا جميلًا', 0.8960826832144323),\n",
              " ('ولمن صبر وغفر إن ذلك لمن عزم الأمور', 0.8794731518459877),\n",
              " ('ولربك فاصبر', 0.8729079733916064),\n",
              " ('الرحمن', 0.8701296296529907),\n",
              " ('واستعينوا بالصبر والصلاة ۚ وإنها لكبيرة إلا على الخاشعين',\n",
              "  0.8692332646264371),\n",
              " ('إلا الذين آمنوا وعملوا الصالحات وتواصوا بالحق وتواصوا بالصبر',\n",
              "  0.8656808733374061),\n",
              " ('الذين صبروا وعلى ربهم يتوكلون', 0.8650750487787456),\n",
              " ('وجزاهم بما صبروا جنةً وحريرًا', 0.864442710527497),\n",
              " ('واصبر وما صبرك إلا بالله ۚ ولا تحزن عليهم ولا تك في ضيقٍ مما يمكرون',\n",
              "  0.8641887351196579),\n",
              " ('ثم كان من الذين آمنوا وتواصوا بالصبر وتواصوا بالمرحمة', 0.8632413423551943),\n",
              " ('يا أيها الذين آمنوا استعينوا بالصبر والصلاة ۚ إن الله مع الصابرين',\n",
              "  0.8612517193903815)]"
            ]
          },
          "metadata": {},
          "execution_count": 204
        }
      ]
    },
    {
      "cell_type": "code",
      "source": [
        "def general_inference(prompt):\n",
        "  x = get_embedding(prompt)\n",
        "  similarity_scores = cos_sim(np.array(x).reshape((1,-1)) , all_embs)[0].numpy().tolist()\n",
        "  top_10_indecies = np.argsort(similarity_scores)[::-1][:11]\n",
        "  results = list(zip(chat_gpt_embs[0][top_10_indecies].tolist() ,  sorted(similarity_scores)[::-1][:11]  ))\n",
        "  return results"
      ],
      "metadata": {
        "id": "i1-vFXq7_Ki3"
      },
      "execution_count": 211,
      "outputs": []
    },
    {
      "cell_type": "code",
      "source": [
        "def verse_inference(verse_prompt):\n",
        "  emb1 = get_emb_for_str(verse_prompt)\n",
        "  similarity_scores = cos_sim(emb1 , all_embs)[0].numpy().tolist()\n",
        "  top_10_indecies = np.argsort(similarity_scores)[::-1][:11]\n",
        "  results = list(zip(chat_gpt_embs[0][top_10_indecies].tolist() , sorted(similarity_scores)[::-1][:11]))\n",
        "  return results"
      ],
      "metadata": {
        "id": "lv2rCHJ4_mVX"
      },
      "execution_count": 213,
      "outputs": []
    },
    {
      "cell_type": "code",
      "source": [
        "def similarity_inference(prompt):\n",
        "  try : \n",
        "    return verse_inference(prompt)\n",
        "  except :\n",
        "    print(\"Using ada's api!\")\n",
        "    return general_inference(prompt) "
      ],
      "metadata": {
        "id": "5smH1JCC_nSe"
      },
      "execution_count": 227,
      "outputs": []
    },
    {
      "cell_type": "code",
      "source": [
        "similarity_inference(\"الزواج\")"
      ],
      "metadata": {
        "id": "oQx9TpemAFGQ"
      },
      "execution_count": null,
      "outputs": []
    }
  ],
  "metadata": {
    "colab": {
      "provenance": []
    },
    "gpuClass": "standard",
    "kernelspec": {
      "display_name": "Python 3",
      "name": "python3"
    },
    "language_info": {
      "name": "python"
    }
  },
  "nbformat": 4,
  "nbformat_minor": 0
}